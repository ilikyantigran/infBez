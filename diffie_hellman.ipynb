{
 "cells": [
  {
   "cell_type": "code",
   "execution_count": 1,
   "metadata": {},
   "outputs": [],
   "source": [
    "from operator import xor"
   ]
  },
  {
   "cell_type": "code",
   "execution_count": 2,
   "metadata": {},
   "outputs": [],
   "source": [
    "def change_to_be_hex(s):\n",
    "    return int(s,base=16)\n",
    "\n",
    "def createKey(string,n):\n",
    "    a = string\n",
    "    while len(a) < n:\n",
    "        a+=a\n",
    "    return a[0:n]\n",
    "\n",
    "def funcXor(stringText, SecretKey):\n",
    "    currentKey = createKey(SecretKey, len(stringText))\n",
    "    res = [chr(ord(a) ^ ord(b)) for a,b in zip(stringText, currentKey)]\n",
    "    return res\n",
    "\n",
    "def encrypt(txt, psw):\n",
    "    return funcXor(txt, psw)\n",
    "\n",
    "def decrypt(txt, psw):\n",
    "    return funcXor(txt, psw)"
   ]
  },
  {
   "cell_type": "code",
   "execution_count": 3,
   "metadata": {},
   "outputs": [],
   "source": [
    "Encrypttext = encrypt(\"Приеду завтра в полдень\", \"Хоба\")"
   ]
  },
  {
   "cell_type": "code",
   "execution_count": 4,
   "metadata": {},
   "outputs": [],
   "source": [
    "Decrypttext = decrypt(Encrypttext, \"Хоба\")"
   ]
  },
  {
   "cell_type": "code",
   "execution_count": 5,
   "metadata": {},
   "outputs": [
    {
     "data": {
      "text/plain": [
       "['П',\n",
       " 'р',\n",
       " 'и',\n",
       " 'е',\n",
       " 'д',\n",
       " 'у',\n",
       " ' ',\n",
       " 'з',\n",
       " 'а',\n",
       " 'в',\n",
       " 'т',\n",
       " 'р',\n",
       " 'а',\n",
       " ' ',\n",
       " 'в',\n",
       " ' ',\n",
       " 'п',\n",
       " 'о',\n",
       " 'л',\n",
       " 'д',\n",
       " 'е',\n",
       " 'н',\n",
       " 'ь']"
      ]
     },
     "execution_count": 5,
     "metadata": {},
     "output_type": "execute_result"
    }
   ],
   "source": [
    "Decrypttext"
   ]
  },
  {
   "cell_type": "code",
   "execution_count": 6,
   "metadata": {},
   "outputs": [
    {
     "data": {
      "text/plain": [
       "[':',\n",
       " '~',\n",
       " '\\t',\n",
       " '\\x05',\n",
       " '\\x11',\n",
       " '}',\n",
       " 'Б',\n",
       " '\\x07',\n",
       " '\\x15',\n",
       " '\\x0c',\n",
       " 's',\n",
       " 'p',\n",
       " '\\x15',\n",
       " 'О',\n",
       " '\\x03',\n",
       " 'А',\n",
       " '\\x1a',\n",
       " '\\x00',\n",
       " '\\n',\n",
       " '\\x04',\n",
       " '\\x10',\n",
       " '\\x03',\n",
       " '}']"
      ]
     },
     "execution_count": 6,
     "metadata": {},
     "output_type": "execute_result"
    }
   ],
   "source": [
    "Encrypttext"
   ]
  }
 ],
 "metadata": {
  "kernelspec": {
   "display_name": "Python 3",
   "language": "python",
   "name": "python3"
  },
  "language_info": {
   "codemirror_mode": {
    "name": "ipython",
    "version": 3
   },
   "file_extension": ".py",
   "mimetype": "text/x-python",
   "name": "python",
   "nbconvert_exporter": "python",
   "pygments_lexer": "ipython3",
   "version": "3.8.3"
  }
 },
 "nbformat": 4,
 "nbformat_minor": 5
}
